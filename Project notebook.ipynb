{
  "nbformat": 4,
  "nbformat_minor": 0,
  "metadata": {
    "kernelspec": {
      "display_name": "Python 3",
      "language": "python",
      "name": "python3"
    },
    "language_info": {
      "codemirror_mode": {
        "name": "ipython",
        "version": 2
      },
      "file_extension": ".py",
      "mimetype": "text/x-python",
      "name": "python",
      "nbconvert_exporter": "python",
      "pygments_lexer": "ipython2",
      "version": "2.7.6"
    },
    "colab": {
      "name": "Project notebook.ipynb",
      "provenance": [],
      "include_colab_link": true
    }
  },
  "cells": [
    {
      "cell_type": "markdown",
      "metadata": {
        "id": "view-in-github",
        "colab_type": "text"
      },
      "source": [
        "<a href=\"https://colab.research.google.com/github/MatteoBettini/Autonomous-Vehicles-Consensus-2021/blob/main/Project%20notebook.ipynb\" target=\"_parent\"><img src=\"https://colab.research.google.com/assets/colab-badge.svg\" alt=\"Open In Colab\"/></a>"
      ]
    },
    {
      "cell_type": "markdown",
      "metadata": {
        "id": "lZUEbwuec3jc"
      },
      "source": [
        "# Notebook initialisation"
      ]
    },
    {
      "cell_type": "markdown",
      "metadata": {
        "id": "WmLIgvzQoFcO"
      },
      "source": [
        "The first cell requires the user to press enter"
      ]
    },
    {
      "cell_type": "markdown",
      "metadata": {
        "id": "iAMl4-KbV9aG"
      },
      "source": [
        "## Install SUMO"
      ]
    },
    {
      "cell_type": "code",
      "metadata": {
        "id": "KmcPKcNYTfIU",
        "outputId": "b938e201-be9a-478f-b6ca-f85889e7e86c",
        "colab": {
          "base_uri": "https://localhost:8080/"
        }
      },
      "source": [
        "!sudo add-apt-repository ppa:sumo/stable\n",
        "!sudo apt-get update\n",
        "!sudo apt-get install sumo sumo-tools sumo-doc\n",
        "import os\n",
        "os.environ['SUMO_HOME'] = '/usr/share/sumo'\n",
        "!sumo"
      ],
      "execution_count": 1,
      "outputs": [
        {
          "output_type": "stream",
          "text": [
            " SUMO is a highly portable, microscopic traffic simulation package designed to handle large road networks. SUMO is open source, licensed under the EPLv2.\n",
            " More info: https://launchpad.net/~sumo/+archive/ubuntu/stable\n",
            "Press [ENTER] to continue or Ctrl-c to cancel adding it.\n",
            "\n",
            "Get:1 https://cloud.r-project.org/bin/linux/ubuntu bionic-cran40/ InRelease [3,626 B]\n",
            "Ign:2 https://developer.download.nvidia.com/compute/cuda/repos/ubuntu1804/x86_64  InRelease\n",
            "Ign:3 https://developer.download.nvidia.com/compute/machine-learning/repos/ubuntu1804/x86_64  InRelease\n",
            "Hit:4 https://developer.download.nvidia.com/compute/cuda/repos/ubuntu1804/x86_64  Release\n",
            "Hit:5 https://developer.download.nvidia.com/compute/machine-learning/repos/ubuntu1804/x86_64  Release\n",
            "Get:6 http://ppa.launchpad.net/c2d4u.team/c2d4u4.0+/ubuntu bionic InRelease [15.9 kB]\n",
            "Get:7 https://cloud.r-project.org/bin/linux/ubuntu bionic-cran40/ Packages [52.7 kB]\n",
            "Get:8 http://security.ubuntu.com/ubuntu bionic-security InRelease [88.7 kB]\n",
            "Hit:10 http://archive.ubuntu.com/ubuntu bionic InRelease\n",
            "Get:12 http://archive.ubuntu.com/ubuntu bionic-updates InRelease [88.7 kB]\n",
            "Get:13 http://security.ubuntu.com/ubuntu bionic-security/main amd64 Packages [2,045 kB]\n",
            "Get:14 http://archive.ubuntu.com/ubuntu bionic-backports InRelease [74.6 kB]\n",
            "Get:15 http://archive.ubuntu.com/ubuntu bionic-updates/universe amd64 Packages [2,172 kB]\n",
            "Hit:16 http://ppa.launchpad.net/cran/libgit2/ubuntu bionic InRelease\n",
            "Get:17 http://ppa.launchpad.net/deadsnakes/ppa/ubuntu bionic InRelease [15.9 kB]\n",
            "Get:18 http://security.ubuntu.com/ubuntu bionic-security/universe amd64 Packages [1,402 kB]\n",
            "Hit:19 http://ppa.launchpad.net/graphics-drivers/ppa/ubuntu bionic InRelease\n",
            "Get:20 http://ppa.launchpad.net/sumo/stable/ubuntu bionic InRelease [15.4 kB]\n",
            "Get:21 http://archive.ubuntu.com/ubuntu bionic-updates/main amd64 Packages [2,476 kB]\n",
            "Get:22 http://ppa.launchpad.net/c2d4u.team/c2d4u4.0+/ubuntu bionic/main Sources [1,749 kB]\n",
            "Get:23 http://ppa.launchpad.net/c2d4u.team/c2d4u4.0+/ubuntu bionic/main amd64 Packages [895 kB]\n",
            "Get:24 http://ppa.launchpad.net/deadsnakes/ppa/ubuntu bionic/main amd64 Packages [39.5 kB]\n",
            "Get:25 http://ppa.launchpad.net/sumo/stable/ubuntu bionic/main amd64 Packages [906 B]\n",
            "Fetched 11.1 MB in 5s (2,458 kB/s)\n",
            "Reading package lists... Done\n",
            "Hit:1 http://security.ubuntu.com/ubuntu bionic-security InRelease\n",
            "Ign:2 https://developer.download.nvidia.com/compute/cuda/repos/ubuntu1804/x86_64  InRelease\n",
            "Hit:3 https://cloud.r-project.org/bin/linux/ubuntu bionic-cran40/ InRelease\n",
            "Ign:4 https://developer.download.nvidia.com/compute/machine-learning/repos/ubuntu1804/x86_64  InRelease\n",
            "Hit:5 https://developer.download.nvidia.com/compute/cuda/repos/ubuntu1804/x86_64  Release\n",
            "Hit:6 https://developer.download.nvidia.com/compute/machine-learning/repos/ubuntu1804/x86_64  Release\n",
            "Hit:7 http://ppa.launchpad.net/c2d4u.team/c2d4u4.0+/ubuntu bionic InRelease\n",
            "Hit:8 http://archive.ubuntu.com/ubuntu bionic InRelease\n",
            "Hit:9 http://archive.ubuntu.com/ubuntu bionic-updates InRelease\n",
            "Hit:11 http://ppa.launchpad.net/cran/libgit2/ubuntu bionic InRelease\n",
            "Hit:13 http://archive.ubuntu.com/ubuntu bionic-backports InRelease\n",
            "Hit:14 http://ppa.launchpad.net/deadsnakes/ppa/ubuntu bionic InRelease\n",
            "Hit:15 http://ppa.launchpad.net/graphics-drivers/ppa/ubuntu bionic InRelease\n",
            "Hit:16 http://ppa.launchpad.net/sumo/stable/ubuntu bionic InRelease\n",
            "Reading package lists... Done\n",
            "Reading package lists... Done\n",
            "Building dependency tree       \n",
            "Reading state information... Done\n",
            "The following additional packages will be installed:\n",
            "  binfmt-support fastjar jarwrapper javascript-common libfox-1.6-0\n",
            "  libjs-jquery libjs-openlayers libjs-underscore\n",
            "Suggested packages:\n",
            "  apache2 | lighttpd | httpd\n",
            "The following NEW packages will be installed:\n",
            "  binfmt-support fastjar jarwrapper javascript-common libfox-1.6-0\n",
            "  libjs-jquery libjs-openlayers libjs-underscore sumo sumo-doc sumo-tools\n",
            "0 upgraded, 11 newly installed, 0 to remove and 51 not upgraded.\n",
            "Need to get 55.6 MB of archives.\n",
            "After this operation, 213 MB of additional disk space will be used.\n",
            "Get:1 http://ppa.launchpad.net/sumo/stable/ubuntu bionic/main amd64 sumo amd64 1.8.0+dfsg1-1 [13.4 MB]\n",
            "Get:2 http://archive.ubuntu.com/ubuntu bionic/main amd64 binfmt-support amd64 2.1.8-2 [51.6 kB]\n",
            "Get:3 http://archive.ubuntu.com/ubuntu bionic/universe amd64 fastjar amd64 2:0.98-6build1 [66.7 kB]\n",
            "Get:4 http://archive.ubuntu.com/ubuntu bionic-updates/universe amd64 jarwrapper all 0.72.1~18.04.1 [20.3 kB]\n",
            "Get:5 http://archive.ubuntu.com/ubuntu bionic/main amd64 javascript-common all 11 [6,066 B]\n",
            "Get:6 http://archive.ubuntu.com/ubuntu bionic/universe amd64 libfox-1.6-0 amd64 1.6.56-1 [875 kB]\n",
            "Get:7 http://archive.ubuntu.com/ubuntu bionic/main amd64 libjs-jquery all 3.2.1-1 [152 kB]\n",
            "Get:8 http://archive.ubuntu.com/ubuntu bionic/main amd64 libjs-underscore all 1.8.3~dfsg-1 [59.9 kB]\n",
            "Get:9 http://archive.ubuntu.com/ubuntu bionic/universe amd64 libjs-openlayers all 2.13.1+ds2-4 [704 kB]\n",
            "Get:10 http://ppa.launchpad.net/sumo/stable/ubuntu bionic/main amd64 sumo-doc all 1.8.0+dfsg1-1 [29.2 MB]\n",
            "Get:11 http://ppa.launchpad.net/sumo/stable/ubuntu bionic/main amd64 sumo-tools all 1.8.0+dfsg1-1 [11.0 MB]\n",
            "Fetched 55.6 MB in 4s (12.6 MB/s)\n",
            "debconf: unable to initialize frontend: Dialog\n",
            "debconf: (No usable dialog-like program is installed, so the dialog based frontend cannot be used. at /usr/share/perl5/Debconf/FrontEnd/Dialog.pm line 76, <> line 11.)\n",
            "debconf: falling back to frontend: Readline\n",
            "debconf: unable to initialize frontend: Readline\n",
            "debconf: (This frontend requires a controlling tty.)\n",
            "debconf: falling back to frontend: Teletype\n",
            "dpkg-preconfigure: unable to re-open stdin: \n",
            "Selecting previously unselected package binfmt-support.\n",
            "(Reading database ... 160980 files and directories currently installed.)\n",
            "Preparing to unpack .../00-binfmt-support_2.1.8-2_amd64.deb ...\n",
            "Unpacking binfmt-support (2.1.8-2) ...\n",
            "Selecting previously unselected package fastjar.\n",
            "Preparing to unpack .../01-fastjar_2%3a0.98-6build1_amd64.deb ...\n",
            "Unpacking fastjar (2:0.98-6build1) ...\n",
            "Selecting previously unselected package jarwrapper.\n",
            "Preparing to unpack .../02-jarwrapper_0.72.1~18.04.1_all.deb ...\n",
            "Unpacking jarwrapper (0.72.1~18.04.1) ...\n",
            "Selecting previously unselected package javascript-common.\n",
            "Preparing to unpack .../03-javascript-common_11_all.deb ...\n",
            "Unpacking javascript-common (11) ...\n",
            "Selecting previously unselected package libfox-1.6-0:amd64.\n",
            "Preparing to unpack .../04-libfox-1.6-0_1.6.56-1_amd64.deb ...\n",
            "Unpacking libfox-1.6-0:amd64 (1.6.56-1) ...\n",
            "Selecting previously unselected package libjs-jquery.\n",
            "Preparing to unpack .../05-libjs-jquery_3.2.1-1_all.deb ...\n",
            "Unpacking libjs-jquery (3.2.1-1) ...\n",
            "Selecting previously unselected package libjs-underscore.\n",
            "Preparing to unpack .../06-libjs-underscore_1.8.3~dfsg-1_all.deb ...\n",
            "Unpacking libjs-underscore (1.8.3~dfsg-1) ...\n",
            "Selecting previously unselected package sumo.\n",
            "Preparing to unpack .../07-sumo_1.8.0+dfsg1-1_amd64.deb ...\n",
            "Unpacking sumo (1.8.0+dfsg1-1) ...\n",
            "Selecting previously unselected package sumo-doc.\n",
            "Preparing to unpack .../08-sumo-doc_1.8.0+dfsg1-1_all.deb ...\n",
            "Unpacking sumo-doc (1.8.0+dfsg1-1) ...\n",
            "Selecting previously unselected package libjs-openlayers.\n",
            "Preparing to unpack .../09-libjs-openlayers_2.13.1+ds2-4_all.deb ...\n",
            "Unpacking libjs-openlayers (2.13.1+ds2-4) ...\n",
            "Selecting previously unselected package sumo-tools.\n",
            "Preparing to unpack .../10-sumo-tools_1.8.0+dfsg1-1_all.deb ...\n",
            "Unpacking sumo-tools (1.8.0+dfsg1-1) ...\n",
            "Setting up libjs-jquery (3.2.1-1) ...\n",
            "Setting up binfmt-support (2.1.8-2) ...\n",
            "Created symlink /etc/systemd/system/multi-user.target.wants/binfmt-support.service → /lib/systemd/system/binfmt-support.service.\n",
            "invoke-rc.d: could not determine current runlevel\n",
            "invoke-rc.d: policy-rc.d denied execution of start.\n",
            "Setting up libfox-1.6-0:amd64 (1.6.56-1) ...\n",
            "Setting up libjs-underscore (1.8.3~dfsg-1) ...\n",
            "Setting up fastjar (2:0.98-6build1) ...\n",
            "Setting up libjs-openlayers (2.13.1+ds2-4) ...\n",
            "Setting up sumo (1.8.0+dfsg1-1) ...\n",
            "Setting up javascript-common (11) ...\n",
            "Setting up jarwrapper (0.72.1~18.04.1) ...\n",
            "Setting up sumo-doc (1.8.0+dfsg1-1) ...\n",
            "Setting up sumo-tools (1.8.0+dfsg1-1) ...\n",
            "Processing triggers for systemd (237-3ubuntu10.45) ...\n",
            "Processing triggers for man-db (2.8.3-2ubuntu0.1) ...\n",
            "Processing triggers for mime-support (3.60ubuntu1) ...\n",
            "Processing triggers for libc-bin (2.27-3ubuntu1.2) ...\n",
            "/sbin/ldconfig.real: /usr/local/lib/python3.7/dist-packages/ideep4py/lib/libmkldnn.so.0 is not a symbolic link\n",
            "\n",
            "Eclipse SUMO sumo Version 1.8.0\n",
            " Build features: Linux-4.15.0-124-generic x86_64 GNU 7.5.0 Release Proj GUI SWIG GDAL GL2PS\n",
            " Copyright (C) 2001-2020 German Aerospace Center (DLR) and others; https://sumo.dlr.de\n",
            " License EPL-2.0: Eclipse Public License Version 2 <https://eclipse.org/legal/epl-v20.html>\n",
            " Use --help to get the list of options.\n"
          ],
          "name": "stdout"
        }
      ]
    },
    {
      "cell_type": "markdown",
      "metadata": {
        "id": "yfamT7fAcrQf"
      },
      "source": [
        "## Clone repository"
      ]
    },
    {
      "cell_type": "code",
      "metadata": {
        "collapsed": true,
        "id": "5CuM_VPgSRps",
        "outputId": "a1d2e632-6682-4616-f609-a4ee86bc323c",
        "colab": {
          "base_uri": "https://localhost:8080/"
        }
      },
      "source": [
        "!git clone https://github.com/MatteoBettini/Autonomous-Vehicles-Consensus-2021"
      ],
      "execution_count": 2,
      "outputs": [
        {
          "output_type": "stream",
          "text": [
            "Cloning into 'Autonomous-Vehicles-Consensus-2021'...\n",
            "remote: Enumerating objects: 344, done.\u001b[K\n",
            "remote: Counting objects: 100% (344/344), done.\u001b[K\n",
            "remote: Compressing objects: 100% (231/231), done.\u001b[K\n",
            "remote: Total 344 (delta 128), reused 313 (delta 103), pack-reused 0\u001b[K\n",
            "Receiving objects: 100% (344/344), 27.83 MiB | 17.65 MiB/s, done.\n",
            "Resolving deltas: 100% (128/128), done.\n"
          ],
          "name": "stdout"
        }
      ]
    },
    {
      "cell_type": "code",
      "metadata": {
        "id": "GgeQ7u5RTOYo"
      },
      "source": [
        "import os\n",
        "os.chdir('/content/Autonomous-Vehicles-Consensus-2021')"
      ],
      "execution_count": 3,
      "outputs": []
    },
    {
      "cell_type": "markdown",
      "metadata": {
        "id": "xNpO_qkwcvID"
      },
      "source": [
        "## Install dependencies"
      ]
    },
    {
      "cell_type": "code",
      "metadata": {
        "id": "5EIcmj1mVUY5",
        "outputId": "6e2facb0-f874-41c3-9300-521e2b670d62",
        "colab": {
          "base_uri": "https://localhost:8080/"
        }
      },
      "source": [
        "!pip install traci sumolib\n",
        "!pip install ray==0.8.0"
      ],
      "execution_count": 4,
      "outputs": [
        {
          "output_type": "stream",
          "text": [
            "Collecting traci\n",
            "\u001b[?25l  Downloading https://files.pythonhosted.org/packages/f4/63/0ab09530a17d56a74eec85c91f67c0301599d653b632ea762f0e5e178900/traci-1.8.0-py3-none-any.whl (218kB)\n",
            "\u001b[K     |████████████████████████████████| 225kB 5.4MB/s \n",
            "\u001b[?25hCollecting sumolib\n",
            "\u001b[?25l  Downloading https://files.pythonhosted.org/packages/30/68/2498ec3d653cde48395df70c198e81c6e279ef68cc02d60655ea0260dd51/sumolib-1.8.0-py3-none-any.whl (134kB)\n",
            "\u001b[K     |████████████████████████████████| 143kB 8.4MB/s \n",
            "\u001b[?25hInstalling collected packages: sumolib, traci\n",
            "Successfully installed sumolib-1.8.0 traci-1.8.0\n",
            "Collecting ray==0.8.0\n",
            "\u001b[?25l  Downloading https://files.pythonhosted.org/packages/75/46/34fc67a6647ffb0c427feadc2da0745d84db333be38f10371c787300bc31/ray-0.8.0-cp37-cp37m-manylinux1_x86_64.whl (72.9MB)\n",
            "\u001b[K     |████████████████████████████████| 72.9MB 1.2MB/s \n",
            "\u001b[?25hRequirement already satisfied: pyyaml in /usr/local/lib/python3.7/dist-packages (from ray==0.8.0) (3.13)\n",
            "Requirement already satisfied: pytest in /usr/local/lib/python3.7/dist-packages (from ray==0.8.0) (3.6.4)\n",
            "Collecting funcsigs\n",
            "  Downloading https://files.pythonhosted.org/packages/69/cb/f5be453359271714c01b9bd06126eaf2e368f1fddfff30818754b5ac2328/funcsigs-1.0.2-py2.py3-none-any.whl\n",
            "Requirement already satisfied: protobuf>=3.8.0 in /usr/local/lib/python3.7/dist-packages (from ray==0.8.0) (3.12.4)\n",
            "Requirement already satisfied: jsonschema in /usr/local/lib/python3.7/dist-packages (from ray==0.8.0) (2.6.0)\n",
            "Collecting colorama\n",
            "  Downloading https://files.pythonhosted.org/packages/44/98/5b86278fbbf250d239ae0ecb724f8572af1c91f4a11edf4d36a206189440/colorama-0.4.4-py2.py3-none-any.whl\n",
            "Requirement already satisfied: click in /usr/local/lib/python3.7/dist-packages (from ray==0.8.0) (7.1.2)\n",
            "Requirement already satisfied: numpy>=1.16 in /usr/local/lib/python3.7/dist-packages (from ray==0.8.0) (1.19.5)\n",
            "Requirement already satisfied: six>=1.0.0 in /usr/local/lib/python3.7/dist-packages (from ray==0.8.0) (1.15.0)\n",
            "Collecting redis>=3.3.2\n",
            "\u001b[?25l  Downloading https://files.pythonhosted.org/packages/a7/7c/24fb0511df653cf1a5d938d8f5d19802a88cef255706fdda242ff97e91b7/redis-3.5.3-py2.py3-none-any.whl (72kB)\n",
            "\u001b[K     |████████████████████████████████| 81kB 7.6MB/s \n",
            "\u001b[?25hRequirement already satisfied: cloudpickle in /usr/local/lib/python3.7/dist-packages (from ray==0.8.0) (1.3.0)\n",
            "Requirement already satisfied: filelock in /usr/local/lib/python3.7/dist-packages (from ray==0.8.0) (3.0.12)\n",
            "Requirement already satisfied: packaging in /usr/local/lib/python3.7/dist-packages (from ray==0.8.0) (20.9)\n",
            "Requirement already satisfied: setuptools in /usr/local/lib/python3.7/dist-packages (from pytest->ray==0.8.0) (54.2.0)\n",
            "Requirement already satisfied: py>=1.5.0 in /usr/local/lib/python3.7/dist-packages (from pytest->ray==0.8.0) (1.10.0)\n",
            "Requirement already satisfied: pluggy<0.8,>=0.5 in /usr/local/lib/python3.7/dist-packages (from pytest->ray==0.8.0) (0.7.1)\n",
            "Requirement already satisfied: atomicwrites>=1.0 in /usr/local/lib/python3.7/dist-packages (from pytest->ray==0.8.0) (1.4.0)\n",
            "Requirement already satisfied: attrs>=17.4.0 in /usr/local/lib/python3.7/dist-packages (from pytest->ray==0.8.0) (20.3.0)\n",
            "Requirement already satisfied: more-itertools>=4.0.0 in /usr/local/lib/python3.7/dist-packages (from pytest->ray==0.8.0) (8.7.0)\n",
            "Requirement already satisfied: pyparsing>=2.0.2 in /usr/local/lib/python3.7/dist-packages (from packaging->ray==0.8.0) (2.4.7)\n",
            "Installing collected packages: funcsigs, colorama, redis, ray\n",
            "Successfully installed colorama-0.4.4 funcsigs-1.0.2 ray-0.8.0 redis-3.5.3\n"
          ],
          "name": "stdout"
        }
      ]
    },
    {
      "cell_type": "markdown",
      "metadata": {
        "id": "ZmTdYUD5cx-b"
      },
      "source": [
        "# Run simulations"
      ]
    },
    {
      "cell_type": "code",
      "metadata": {
        "id": "ys6T5yzugMVx"
      },
      "source": [
        "# To plot figures\n",
        "import matplotlib\n",
        "from matplotlib import pyplot as plt\n",
        "%matplotlib inline"
      ],
      "execution_count": 5,
      "outputs": []
    },
    {
      "cell_type": "code",
      "metadata": {
        "id": "RgKNrtqqS2mf"
      },
      "source": [
        "import glob\n",
        "import json\n",
        "import subprocess\n",
        "import numpy as np\n",
        "\n",
        "from utils import PathUtils, DefaultParams\n",
        "from plot_sim_results import plot_multiple_results"
      ],
      "execution_count": 7,
      "outputs": []
    },
    {
      "cell_type": "markdown",
      "metadata": {
        "id": "FzYGhUONdYmJ"
      },
      "source": [
        "## Select simulation parameters"
      ]
    },
    {
      "cell_type": "code",
      "metadata": {
        "id": "o1ol-A2_dIAl"
      },
      "source": [
        "# SIM PARAMS\n",
        "DefaultParams.RING_RADIUS = 41.4\n",
        "DefaultParams.MAX_SPEED = 30\n",
        "DefaultParams.TARGET_SPEED = DefaultParams.MAX_SPEED\n",
        "DefaultParams.MAX_ACCEL = 2\n",
        "DefaultParams.MAX_DECEL = DefaultParams.MAX_ACCEL\n",
        "DefaultParams.N_VEHICLES = 10\n",
        "DefaultParams.N_BROKEN_VEHICLES = 0\n",
        "DefaultParams.DURATION = 400\n",
        "DefaultParams.INITIAL_HEADWAY = ((2 * np.pi * DefaultParams.RING_RADIUS) / DefaultParams.N_VEHICLES) - 5  # Vehicle length\n",
        "DefaultParams.SIM_STEP = 0.1\n",
        "DefaultParams.TAU = DefaultParams.SIM_STEP + 0.03\n",
        "\n",
        "# PID HEADWAY PARAMS\n",
        "DefaultParams.TIME_HEADWAY_IDM = 0.8\n",
        "DefaultParams.TIME_HEADWAY = 0.6\n",
        "DefaultParams.TARGET_HEADWAY = DefaultParams.TIME_HEADWAY * DefaultParams.TARGET_SPEED + 2\n",
        "\n",
        "# INIT PARAMS\n",
        "DefaultParams.BUNCHING = 0\n",
        "DefaultParams.PERTURBATION = 0\n",
        "\n",
        "# CONSENSUS PARMS\n",
        "DefaultParams.V_INC = 0.2\n",
        "DefaultParams.N_HOPS = -1"
      ],
      "execution_count": 8,
      "outputs": []
    },
    {
      "cell_type": "markdown",
      "metadata": {
        "id": "FM6cG4cMeUNp"
      },
      "source": [
        "## Choose which controller to simulate\n"
      ]
    },
    {
      "cell_type": "markdown",
      "metadata": {
        "id": "B6IoZLr3eY-V"
      },
      "source": [
        "Config can be chosen from:\n",
        "\n",
        "* ring_consensus_leaderless_config\n",
        "* ring_idm_config\n",
        "* ring_gipps_config\n",
        "* ring_bando_config\n",
        "* ring_follower_stopper_config\n",
        "* ring_pid_headway_config"
      ]
    },
    {
      "cell_type": "code",
      "metadata": {
        "id": "L5Q6wEZbeShr"
      },
      "source": [
        "config = 'ring_consensus_leaderless_config'"
      ],
      "execution_count": 9,
      "outputs": []
    },
    {
      "cell_type": "markdown",
      "metadata": {
        "id": "7nQ1MBsbek9f"
      },
      "source": [
        "## Run a single simulation"
      ]
    },
    {
      "cell_type": "code",
      "metadata": {
        "id": "NxeaZcUudt4A",
        "outputId": "62028b5e-0616-4e2c-c7d1-eb5d6fff946c",
        "colab": {
          "base_uri": "https://localhost:8080/",
          "height": 437
        }
      },
      "source": [
        "command = ['python',\n",
        "                PathUtils.run_ring_file,\n",
        "                '--exp_config', config,\n",
        "                '--no_render',\n",
        "                '--no_plot_outcome'\n",
        "                ]\n",
        "\n",
        "process = subprocess.Popen(command,\n",
        "                stdout=subprocess.PIPE,\n",
        "                stderr=subprocess.PIPE)\n",
        "\n",
        "output, error = process.communicate()\n",
        "\n",
        "if output:\n",
        "    print(output.decode())\n",
        "if error:\n",
        "    print(error.decode())\n",
        "\n",
        "with open(str(PathUtils.ring_json_file), 'r') as f:\n",
        "    params_dict = json.load(f)\n",
        "    f.close()\n",
        "\n",
        "plot_multiple_results(params_dict)"
      ],
      "execution_count": 10,
      "outputs": [
        {
          "output_type": "stream",
          "text": [
            "Round 0, return: 422.6936450985649\n",
            "./data/ring_LLVC_20210406-1440581617720058.6382434-0_emission.csv ./data\n",
            "Average, std returns: 422.6936450985649, 0.0\n",
            "Average, std velocities: 25.361623724970745, 0.0\n",
            "Average, std outflows: 0.0, 0.0\n",
            "Total time: 2.06017804145813\n",
            "steps/second: 271.43865246055753\n",
            "ring_LLVC\n",
            "\n"
          ],
          "name": "stdout"
        },
        {
          "output_type": "display_data",
          "data": {
            "image/png": "[encoded data removed]",
            "text/plain": [
              "<Figure size 360x288 with 1 Axes>"
            ]
          },
          "metadata": {
            "tags": []
          }
        }
      ]
    },
    {
      "cell_type": "markdown",
      "metadata": {
        "id": "N83_4t3ceuhs"
      },
      "source": [
        "## Run and compare all controllers"
      ]
    },
    {
      "cell_type": "code",
      "metadata": {
        "id": "CT25yvlCS0nc",
        "outputId": "0ad9ca96-3916-442a-bc93-61f8e3978c33",
        "colab": {
          "base_uri": "https://localhost:8080/",
          "height": 1000
        }
      },
      "source": [
        "ring_configs = glob.glob(str(PathUtils.exp_configs_folder) + '/ring' + '/*.py')\n",
        "\n",
        "for config in ring_configs:\n",
        "\n",
        "    config = config.rsplit('/', 1)[1].rsplit('.',1)[0]\n",
        "\n",
        "    command = ['python',\n",
        "                PathUtils.run_ring_file,\n",
        "                '--exp_config', config,\n",
        "                '--no_render',\n",
        "                '--no_plot_outcome'\n",
        "                ]\n",
        "\n",
        "    process = subprocess.Popen(command,\n",
        "                                stdout=subprocess.PIPE,\n",
        "                                stderr=subprocess.PIPE)\n",
        "\n",
        "    output, error = process.communicate()\n",
        "\n",
        "    if output:\n",
        "        print(output.decode())\n",
        "    if error:\n",
        "        print(error.decode())\n",
        "\n",
        "\n",
        "with open(str(PathUtils.ring_json_file), 'r') as f:\n",
        "    params_dict = json.load(f)\n",
        "    f.close()\n",
        "\n",
        "plot_multiple_results(params_dict)"
      ],
      "execution_count": 11,
      "outputs": [
        {
          "output_type": "stream",
          "text": [
            "Round 0, return: 295.950236176371\n",
            "./data/ring_IDM_20210406-1441041617720064.2975023-0_emission.csv ./data\n",
            "Average, std returns: 295.950236176371, 0.0\n",
            "Average, std velocities: 17.757083139208014, 0.0\n",
            "Average, std outflows: 0.0, 0.0\n",
            "Total time: 1.6078059673309326\n",
            "steps/second: 353.7644363647186\n",
            "ring_IDM\n",
            "\n",
            "Round 0, return: 422.6936450985649\n",
            "./data/ring_LLVC_20210406-1441081617720068.806842-0_emission.csv ./data\n",
            "Average, std returns: 422.6936450985649, 0.0\n",
            "Average, std velocities: 25.361623724970745, 0.0\n",
            "Average, std outflows: 0.0, 0.0\n",
            "Total time: 1.891272783279419\n",
            "steps/second: 293.8812557377038\n",
            "ring_LLVC\n",
            "\n",
            "Round 0, return: 404.7515078400526\n",
            "./data/ring_Gipps_20210406-1441131617720073.5889964-0_emission.csv ./data\n",
            "Average, std returns: 404.7515078400526, 0.0\n",
            "Average, std velocities: 24.285245006237034, 0.0\n",
            "Average, std outflows: 0.0, 0.0\n",
            "Total time: 1.92368483543396\n",
            "steps/second: 296.3857541217902\n",
            "ring_Gipps\n",
            "\n",
            "Round 0, return: 32.368788560784395\n",
            "./data/ring_Bando_20210406-1441181617720078.4079592-0_emission.csv ./data\n",
            "Average, std returns: 32.368788560784395, 0.0\n",
            "Average, std velocities: 1.9421294724908835, 0.0\n",
            "Average, std outflows: 0.0, 0.0\n",
            "Total time: 1.5986039638519287\n",
            "steps/second: 356.75812978048816\n",
            "ring_Bando\n",
            "\n",
            "Round 0, return: 425.23429555821195\n",
            "./data/ring_FollowerStopper_20210406-1441221617720082.8753161-0_emission.csv ./data\n",
            "Average, std returns: 425.23429555821195, 0.0\n",
            "Average, std velocities: 25.514719999999993, 0.0\n",
            "Average, std outflows: 0.0, 0.0\n",
            "Total time: 1.909425973892212\n",
            "steps/second: 291.39887695373875\n",
            "ring_FollowerStopper\n",
            "\n",
            "Round 0, return: 202.01326464494485\n",
            "./data/ring_PIDHeadway_20210406-1441271617720087.6796541-0_emission.csv ./data\n",
            "Average, std returns: 202.01326464494485, 0.0\n",
            "Average, std velocities: 12.12976330520152, 0.0\n",
            "Average, std outflows: 0.0, 0.0\n",
            "Total time: 1.8673505783081055\n",
            "steps/second: 305.8477774382429\n",
            "ring_PIDHeadway\n",
            "\n"
          ],
          "name": "stdout"
        },
        {
          "output_type": "display_data",
          "data": {
            "image/png": "[encoded data removed]",
            "text/plain": [
              "<Figure size 360x288 with 1 Axes>"
            ]
          },
          "metadata": {
            "tags": []
          }
        }
      ]
    }
  ]
}
