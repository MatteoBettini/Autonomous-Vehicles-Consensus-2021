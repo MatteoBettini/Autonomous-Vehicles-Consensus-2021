{
  "nbformat": 4,
  "nbformat_minor": 0,
  "metadata": {
    "kernelspec": {
      "display_name": "Python 3",
      "language": "python",
      "name": "python3"
    },
    "language_info": {
      "codemirror_mode": {
        "name": "ipython",
        "version": 2
      },
      "file_extension": ".py",
      "mimetype": "text/x-python",
      "name": "python",
      "nbconvert_exporter": "python",
      "pygments_lexer": "ipython2",
      "version": "2.7.6"
    },
    "colab": {
      "name": "AVs_Consensus_Colab.ipynb",
      "provenance": [],
      "include_colab_link": true
    }
  },
  "cells": [
    {
      "cell_type": "markdown",
      "metadata": {
        "id": "view-in-github",
        "colab_type": "text"
      },
      "source": [
        "<a href=\"https://colab.research.google.com/github/MatteoBettini/Autonomous-Vehicles-Consensus-2021/blob/main/AVs_Consensus_Colab.ipynb\" target=\"_parent\"><img src=\"https://colab.research.google.com/assets/colab-badge.svg\" alt=\"Open In Colab\"/></a>"
      ]
    },
    {
      "cell_type": "markdown",
      "metadata": {
        "id": "lZUEbwuec3jc"
      },
      "source": [
        "# Notebook initialisation"
      ]
    },
    {
      "cell_type": "markdown",
      "metadata": {
        "id": "WmLIgvzQoFcO"
      },
      "source": [
        "The first cell requires the user to press enter"
      ]
    },
    {
      "cell_type": "markdown",
      "metadata": {
        "id": "iAMl4-KbV9aG"
      },
      "source": [
        "## Install SUMO"
      ]
    },
    {
      "cell_type": "code",
      "metadata": {
        "id": "KmcPKcNYTfIU"
      },
      "source": [
        "!sudo add-apt-repository ppa:sumo/stable\n",
        "!sudo apt-get update\n",
        "!sudo apt-get install sumo sumo-tools sumo-doc\n",
        "import os\n",
        "os.environ['SUMO_HOME'] = '/usr/share/sumo'\n",
        "!sumo"
      ],
      "execution_count": null,
      "outputs": []
    },
    {
      "cell_type": "markdown",
      "metadata": {
        "id": "yfamT7fAcrQf"
      },
      "source": [
        "## Clone repository"
      ]
    },
    {
      "cell_type": "code",
      "metadata": {
        "id": "5CuM_VPgSRps"
      },
      "source": [
        "!git clone https://github.com/MatteoBettini/Autonomous-Vehicles-Consensus-2021"
      ],
      "execution_count": null,
      "outputs": []
    },
    {
      "cell_type": "code",
      "metadata": {
        "id": "GgeQ7u5RTOYo"
      },
      "source": [
        "import os\n",
        "os.chdir('/content/Autonomous-Vehicles-Consensus-2021')"
      ],
      "execution_count": null,
      "outputs": []
    },
    {
      "cell_type": "markdown",
      "metadata": {
        "id": "xNpO_qkwcvID"
      },
      "source": [
        "## Install dependencies"
      ]
    },
    {
      "cell_type": "code",
      "metadata": {
        "id": "5EIcmj1mVUY5"
      },
      "source": [
        "!pip install traci sumolib\n",
        "!pip install ray==0.8.0"
      ],
      "execution_count": null,
      "outputs": []
    },
    {
      "cell_type": "markdown",
      "metadata": {
        "id": "ZmTdYUD5cx-b"
      },
      "source": [
        "# Run simulations"
      ]
    },
    {
      "cell_type": "code",
      "metadata": {
        "id": "ys6T5yzugMVx"
      },
      "source": [
        "# To plot figures\n",
        "import matplotlib\n",
        "from matplotlib import pyplot as plt\n",
        "%matplotlib inline"
      ],
      "execution_count": null,
      "outputs": []
    },
    {
      "cell_type": "code",
      "metadata": {
        "id": "RgKNrtqqS2mf"
      },
      "source": [
        "import glob\n",
        "import json\n",
        "import subprocess\n",
        "import numpy as np\n",
        "\n",
        "from utils import PathUtils, DefaultParams\n",
        "from plot_sim_results import plot_multiple_results"
      ],
      "execution_count": null,
      "outputs": []
    },
    {
      "cell_type": "markdown",
      "metadata": {
        "id": "FzYGhUONdYmJ"
      },
      "source": [
        "## Select simulation parameters"
      ]
    },
    {
      "cell_type": "code",
      "metadata": {
        "id": "o1ol-A2_dIAl"
      },
      "source": [
        "# SIM PARAMS\n",
        "DefaultParams.RING_RADIUS = 41.4\n",
        "DefaultParams.MAX_SPEED = 30\n",
        "DefaultParams.TARGET_SPEED = DefaultParams.MAX_SPEED\n",
        "DefaultParams.MAX_ACCEL = 2\n",
        "DefaultParams.MAX_DECEL = DefaultParams.MAX_ACCEL\n",
        "DefaultParams.N_VEHICLES = 10\n",
        "DefaultParams.N_BROKEN_VEHICLES = 0\n",
        "DefaultParams.DURATION = 400\n",
        "DefaultParams.INITIAL_HEADWAY = ((2 * np.pi * DefaultParams.RING_RADIUS) / DefaultParams.N_VEHICLES) - 5  # Vehicle length\n",
        "DefaultParams.SIM_STEP = 0.1\n",
        "DefaultParams.TAU = DefaultParams.SIM_STEP + 0.03\n",
        "\n",
        "# PID HEADWAY PARAMS\n",
        "DefaultParams.TIME_HEADWAY_IDM = 0.8\n",
        "DefaultParams.TIME_HEADWAY = 0.6\n",
        "DefaultParams.TARGET_HEADWAY = DefaultParams.TIME_HEADWAY * DefaultParams.TARGET_SPEED + 2\n",
        "\n",
        "# INIT PARAMS\n",
        "DefaultParams.BUNCHING = 0\n",
        "DefaultParams.PERTURBATION = 0\n",
        "\n",
        "# CONSENSUS PARMS\n",
        "DefaultParams.V_INC = 0.2\n",
        "DefaultParams.N_HOPS = -1"
      ],
      "execution_count": null,
      "outputs": []
    },
    {
      "cell_type": "markdown",
      "metadata": {
        "id": "FM6cG4cMeUNp"
      },
      "source": [
        "## Choose which controller to simulate\n"
      ]
    },
    {
      "cell_type": "markdown",
      "metadata": {
        "id": "B6IoZLr3eY-V"
      },
      "source": [
        "Config can be chosen from:\n",
        "\n",
        "* ring_consensus_leaderless_config\n",
        "* ring_idm_config\n",
        "* ring_gipps_config\n",
        "* ring_bando_config\n",
        "* ring_follower_stopper_config\n",
        "* ring_pid_headway_config"
      ]
    },
    {
      "cell_type": "code",
      "metadata": {
        "id": "L5Q6wEZbeShr"
      },
      "source": [
        "config = 'ring_consensus_leaderless_config'"
      ],
      "execution_count": null,
      "outputs": []
    },
    {
      "cell_type": "markdown",
      "metadata": {
        "id": "7nQ1MBsbek9f"
      },
      "source": [
        "## Run a single simulation"
      ]
    },
    {
      "cell_type": "code",
      "metadata": {
        "id": "NxeaZcUudt4A"
      },
      "source": [
        "command = ['python',\n",
        "                PathUtils.run_ring_file,\n",
        "                '--exp_config', config,\n",
        "                '--no_render',\n",
        "                '--no_plot_outcome'\n",
        "                ]\n",
        "\n",
        "process = subprocess.Popen(command,\n",
        "                stdout=subprocess.PIPE,\n",
        "                stderr=subprocess.PIPE)\n",
        "\n",
        "output, error = process.communicate()\n",
        "\n",
        "if output:\n",
        "    print(output.decode())\n",
        "if error:\n",
        "    print(error.decode())\n",
        "\n",
        "with open(str(PathUtils.ring_json_file), 'r') as f:\n",
        "    params_dict = json.load(f)\n",
        "    f.close()\n",
        "\n",
        "plot_multiple_results(params_dict)"
      ],
      "execution_count": null,
      "outputs": []
    },
    {
      "cell_type": "markdown",
      "metadata": {
        "id": "N83_4t3ceuhs"
      },
      "source": [
        "## Run and compare all controllers"
      ]
    },
    {
      "cell_type": "code",
      "metadata": {
        "id": "CT25yvlCS0nc"
      },
      "source": [
        "ring_configs = glob.glob(str(PathUtils.exp_configs_folder) + '/ring' + '/*.py')\n",
        "\n",
        "for config in ring_configs:\n",
        "\n",
        "    config = config.rsplit('/', 1)[1].rsplit('.',1)[0]\n",
        "\n",
        "    command = ['python',\n",
        "                PathUtils.run_ring_file,\n",
        "                '--exp_config', config,\n",
        "                '--no_render',\n",
        "                '--no_plot_outcome'\n",
        "                ]\n",
        "\n",
        "    process = subprocess.Popen(command,\n",
        "                                stdout=subprocess.PIPE,\n",
        "                                stderr=subprocess.PIPE)\n",
        "\n",
        "    output, error = process.communicate()\n",
        "\n",
        "    if output:\n",
        "        print(output.decode())\n",
        "    if error:\n",
        "        print(error.decode())\n",
        "\n",
        "\n",
        "with open(str(PathUtils.ring_json_file), 'r') as f:\n",
        "    params_dict = json.load(f)\n",
        "    f.close()\n",
        "\n",
        "plot_multiple_results(params_dict)"
      ],
      "execution_count": null,
      "outputs": []
    }
  ]
}